{
 "cells": [
  {
   "cell_type": "code",
   "execution_count": 72,
   "metadata": {},
   "outputs": [],
   "source": [
    "import pandas as pd\n",
    "import numpy as np"
   ]
  },
  {
   "cell_type": "code",
   "execution_count": 73,
   "metadata": {},
   "outputs": [],
   "source": [
    "data = pd.read_csv('data.csv')"
   ]
  },
  {
   "cell_type": "code",
   "execution_count": 74,
   "metadata": {},
   "outputs": [],
   "source": [
    "data['日期时间'] = pd.to_datetime(data['RetweetTime'],format='%Y/%m/%d %H:%M')"
   ]
  },
  {
   "cell_type": "code",
   "execution_count": 75,
   "metadata": {},
   "outputs": [],
   "source": [
    "from datetime import datetime\n",
    "data['日期小时'] = data['日期时间'].apply(lambda x:x.strftime(\"%Y-%m-%d %H\"))"
   ]
  },
  {
   "cell_type": "code",
   "execution_count": 76,
   "metadata": {},
   "outputs": [
    {
     "data": {
      "text/plain": [
       "'2022-03-24 23'"
      ]
     },
     "execution_count": 76,
     "metadata": {},
     "output_type": "execute_result"
    }
   ],
   "source": [
    "from datetime import datetime\n",
    "data['日期时间'].iloc[1].strftime(\"%Y-%m-%d %H\")"
   ]
  },
  {
   "cell_type": "code",
   "execution_count": 77,
   "metadata": {},
   "outputs": [],
   "source": [
    "sort_time = sorted(data.groupby('日期小时').groups.keys())"
   ]
  },
  {
   "cell_type": "code",
   "execution_count": 78,
   "metadata": {},
   "outputs": [
    {
     "name": "stdout",
     "output_type": "stream",
     "text": [
      "2022-02-27 22 2022-03-10 08\n",
      "2022-03-10 08 2022-03-20 09\n",
      "2022-03-20 09 2022-03-30 09\n"
     ]
    }
   ],
   "source": [
    "print(sort_time[0],sort_time[241])\n",
    "print(sort_time[241],sort_time[482])\n",
    "print(sort_time[482],sort_time[722])"
   ]
  },
  {
   "cell_type": "code",
   "execution_count": 79,
   "metadata": {},
   "outputs": [],
   "source": [
    "data_1 = pd.merge(data[data['日期小时']>='2022-02-27 22'],data[data['日期小时']<'2022-03-10 08'],how='inner')\n",
    "data_2 = pd.merge(data[data['日期小时']>='2022-03-10 08'],data[data['日期小时']<'2022-03-20 09'],how='inner')\n",
    "data_3 = pd.merge(data[data['日期小时']>='2022-03-20 09'],data[data['日期小时']<='2022-03-30 09'],how='inner')"
   ]
  },
  {
   "cell_type": "code",
   "execution_count": 80,
   "metadata": {},
   "outputs": [],
   "source": [
    "sort_1 = data_1[['TargetID','SourceID']].groupby('SourceID').count().sort_values(by='TargetID')\n",
    "sort_2 = data_2[['TargetID','SourceID']].groupby('SourceID').count().sort_values(by='TargetID')\n",
    "sort_3 = data_3[['TargetID','SourceID']].groupby('SourceID').count().sort_values(by='TargetID')"
   ]
  },
  {
   "cell_type": "code",
   "execution_count": 81,
   "metadata": {},
   "outputs": [],
   "source": [
    "data_1_1 = data_1[data_1['SourceID'] == 2538826567]\n",
    "data_2_1 = data_2[data_2['SourceID'] == 3017516708]\n",
    "data_3_1 = data_3[data_3['SourceID'] == 2806207081]"
   ]
  },
  {
   "cell_type": "code",
   "execution_count": 82,
   "metadata": {},
   "outputs": [
    {
     "name": "stderr",
     "output_type": "stream",
     "text": [
      "C:\\Users\\86132\\AppData\\Local\\Temp\\ipykernel_93824\\42519947.py:1: SettingWithCopyWarning: \n",
      "A value is trying to be set on a copy of a slice from a DataFrame.\n",
      "Try using .loc[row_indexer,col_indexer] = value instead\n",
      "\n",
      "See the caveats in the documentation: https://pandas.pydata.org/pandas-docs/stable/user_guide/indexing.html#returning-a-view-versus-a-copy\n",
      "  data_1_1['sum'] = 1\n",
      "C:\\Users\\86132\\AppData\\Local\\Temp\\ipykernel_93824\\42519947.py:2: SettingWithCopyWarning: \n",
      "A value is trying to be set on a copy of a slice from a DataFrame.\n",
      "Try using .loc[row_indexer,col_indexer] = value instead\n",
      "\n",
      "See the caveats in the documentation: https://pandas.pydata.org/pandas-docs/stable/user_guide/indexing.html#returning-a-view-versus-a-copy\n",
      "  data_2_1['sum'] = 1\n",
      "C:\\Users\\86132\\AppData\\Local\\Temp\\ipykernel_93824\\42519947.py:3: SettingWithCopyWarning: \n",
      "A value is trying to be set on a copy of a slice from a DataFrame.\n",
      "Try using .loc[row_indexer,col_indexer] = value instead\n",
      "\n",
      "See the caveats in the documentation: https://pandas.pydata.org/pandas-docs/stable/user_guide/indexing.html#returning-a-view-versus-a-copy\n",
      "  data_3_1['sum'] = 1\n"
     ]
    },
    {
     "data": {
      "text/html": [
       "<div>\n",
       "<style scoped>\n",
       "    .dataframe tbody tr th:only-of-type {\n",
       "        vertical-align: middle;\n",
       "    }\n",
       "\n",
       "    .dataframe tbody tr th {\n",
       "        vertical-align: top;\n",
       "    }\n",
       "\n",
       "    .dataframe thead th {\n",
       "        text-align: right;\n",
       "    }\n",
       "</style>\n",
       "<table border=\"1\" class=\"dataframe\">\n",
       "  <thead>\n",
       "    <tr style=\"text-align: right;\">\n",
       "      <th></th>\n",
       "      <th>SourceID</th>\n",
       "      <th>TargetID</th>\n",
       "      <th>sum</th>\n",
       "    </tr>\n",
       "    <tr>\n",
       "      <th>日期小时</th>\n",
       "      <th></th>\n",
       "      <th></th>\n",
       "      <th></th>\n",
       "    </tr>\n",
       "  </thead>\n",
       "  <tbody>\n",
       "    <tr>\n",
       "      <th>2022-03-01 12</th>\n",
       "      <td>2538826567</td>\n",
       "      <td>1274497066</td>\n",
       "      <td>1</td>\n",
       "    </tr>\n",
       "    <tr>\n",
       "      <th>2022-03-04 01</th>\n",
       "      <td>2538826567</td>\n",
       "      <td>1782081549</td>\n",
       "      <td>1</td>\n",
       "    </tr>\n",
       "    <tr>\n",
       "      <th>2022-03-04 06</th>\n",
       "      <td>2538826567</td>\n",
       "      <td>1658225839</td>\n",
       "      <td>1</td>\n",
       "    </tr>\n",
       "    <tr>\n",
       "      <th>2022-03-05 07</th>\n",
       "      <td>2538826567</td>\n",
       "      <td>6633734791</td>\n",
       "      <td>1</td>\n",
       "    </tr>\n",
       "    <tr>\n",
       "      <th>2022-03-10 01</th>\n",
       "      <td>2538826567</td>\n",
       "      <td>7512978078</td>\n",
       "      <td>1</td>\n",
       "    </tr>\n",
       "    <tr>\n",
       "      <th>...</th>\n",
       "      <td>...</td>\n",
       "      <td>...</td>\n",
       "      <td>...</td>\n",
       "    </tr>\n",
       "    <tr>\n",
       "      <th>2022-03-03 11</th>\n",
       "      <td>332586280277</td>\n",
       "      <td>510627202539</td>\n",
       "      <td>131</td>\n",
       "    </tr>\n",
       "    <tr>\n",
       "      <th>2022-03-09 08</th>\n",
       "      <td>345280413112</td>\n",
       "      <td>410528135262</td>\n",
       "      <td>136</td>\n",
       "    </tr>\n",
       "    <tr>\n",
       "      <th>2022-03-07 08</th>\n",
       "      <td>406212250720</td>\n",
       "      <td>533959799338</td>\n",
       "      <td>160</td>\n",
       "    </tr>\n",
       "    <tr>\n",
       "      <th>2022-03-02 17</th>\n",
       "      <td>406212250720</td>\n",
       "      <td>494930170067</td>\n",
       "      <td>160</td>\n",
       "    </tr>\n",
       "    <tr>\n",
       "      <th>2022-03-01 16</th>\n",
       "      <td>571235977575</td>\n",
       "      <td>741649131428</td>\n",
       "      <td>225</td>\n",
       "    </tr>\n",
       "  </tbody>\n",
       "</table>\n",
       "<p>145 rows × 3 columns</p>\n",
       "</div>"
      ],
      "text/plain": [
       "                   SourceID      TargetID  sum\n",
       "日期小时                                          \n",
       "2022-03-01 12    2538826567    1274497066    1\n",
       "2022-03-04 01    2538826567    1782081549    1\n",
       "2022-03-04 06    2538826567    1658225839    1\n",
       "2022-03-05 07    2538826567    6633734791    1\n",
       "2022-03-10 01    2538826567    7512978078    1\n",
       "...                     ...           ...  ...\n",
       "2022-03-03 11  332586280277  510627202539  131\n",
       "2022-03-09 08  345280413112  410528135262  136\n",
       "2022-03-07 08  406212250720  533959799338  160\n",
       "2022-03-02 17  406212250720  494930170067  160\n",
       "2022-03-01 16  571235977575  741649131428  225\n",
       "\n",
       "[145 rows x 3 columns]"
      ]
     },
     "execution_count": 82,
     "metadata": {},
     "output_type": "execute_result"
    }
   ],
   "source": [
    "data_1_1['sum'] = 1\n",
    "data_2_1['sum'] = 1\n",
    "data_3_1['sum'] = 1\n",
    "data_1_1.groupby('日期小时').sum().sort_values(by='sum')"
   ]
  },
  {
   "cell_type": "code",
   "execution_count": 83,
   "metadata": {},
   "outputs": [],
   "source": [
    "SEED_1 = 2538826567\n",
    "SEED_2 = 3017516708\n",
    "SEED_3 = 2806207081\n",
    "Datetime_1 = '2022-03-01 16'\n",
    "Datetime_11 = '2022-03-02 02'\n",
    "Datetime_2 = '2022-03-18 14'\n",
    "Datetime_21 = '2022-03-19 00'\n",
    "Datetime_3 = '2022-03-23 09'\n",
    "Datetime_31 = '2022-03-23 19'"
   ]
  },
  {
   "cell_type": "code",
   "execution_count": 84,
   "metadata": {},
   "outputs": [],
   "source": [
    "def get_seet(data,Datetime_1,Datetime_2):\n",
    "    d_t_1 = data[data['日期小时'] >= Datetime_1]\n",
    "    d_t_2 = data[data['日期小时'] <= Datetime_2]\n",
    "    d_t = pd.merge(d_t_1,d_t_2,how='inner')\n",
    "    targetID_list = list(d_t.groupby('TargetID').groups.keys())\n",
    "    return targetID_list"
   ]
  },
  {
   "cell_type": "code",
   "execution_count": 85,
   "metadata": {},
   "outputs": [],
   "source": [
    "list_1 = get_seet(data_1,Datetime_1,Datetime_11)\n",
    "list_2 = get_seet(data_2,Datetime_2,Datetime_21)\n",
    "list_3 = get_seet(data_3,Datetime_3,Datetime_31)"
   ]
  },
  {
   "cell_type": "code",
   "execution_count": 86,
   "metadata": {},
   "outputs": [],
   "source": [
    "def get_tuple(num,List):\n",
    "    list_tuple = []\n",
    "    for i in List:\n",
    "        a = tuple((num,i))\n",
    "        list_tuple.append(a)\n",
    "    return list_tuple"
   ]
  },
  {
   "cell_type": "code",
   "execution_count": 87,
   "metadata": {},
   "outputs": [],
   "source": [
    "list_tuple_1 = get_tuple(SEED_1,list_1)\n",
    "list_tuple_2 = get_tuple(SEED_2,list_2)\n",
    "list_tuple_3 = get_tuple(SEED_3,list_3)"
   ]
  },
  {
   "cell_type": "code",
   "execution_count": 88,
   "metadata": {},
   "outputs": [],
   "source": [
    "import networkx as nx\n",
    "\n",
    "# 创建三张关系图\n",
    "G_1 = nx.Graph()\n",
    "G_2 = nx.Graph()\n",
    "G_3 = nx.Graph()\n",
    "\n",
    "# 第一次深度遍历\n",
    "G_1.add_node(SEED_1)\n",
    "G_1.add_nodes_from(list_1)\n",
    "G_1.add_edges_from(list_tuple_1)\n",
    "\n",
    "G_2.add_node(SEED_2)\n",
    "G_2.add_nodes_from(list_2)\n",
    "G_2.add_edges_from(list_tuple_2)\n",
    "\n",
    "G_3.add_node(SEED_3)\n",
    "G_3.add_nodes_from(list_3)\n",
    "G_3.add_edges_from(list_tuple_3)"
   ]
  },
  {
   "cell_type": "code",
   "execution_count": 89,
   "metadata": {},
   "outputs": [],
   "source": [
    "def add_grape(G,data,List):\n",
    "    list_all = []\n",
    "    for node in List:\n",
    "        # 转发记录：转发\n",
    "        source = data[data['TargetID'] == node]\n",
    "        source_list = list(source.groupby('SourceID').groups.keys())\n",
    "        source_tuple = get_tuple(node,source_list)\n",
    "        G.add_nodes_from(source_list)\n",
    "        G.add_edges_from(source_tuple)\n",
    "\n",
    "        #转发记录：被转发\n",
    "        target = data[data['SourceID'] == node]\n",
    "        target_list = list(target.groupby('TargetID').groups.keys())\n",
    "        target_tuple = get_tuple(node,target_list)\n",
    "        G.add_nodes_from(target_list)\n",
    "        G.add_edges_from(target_tuple)\n",
    "\n",
    "        list_node = source_list + target_list\n",
    "        list_all = list_all + list_node\n",
    "\n",
    "    # 返回深度搜索得到的全部结点\n",
    "    return list_all\n"
   ]
  },
  {
   "cell_type": "code",
   "execution_count": 90,
   "metadata": {},
   "outputs": [],
   "source": [
    "# 第二次深度遍历\n",
    "list2_1 = add_grape(G_1,data,list_1)\n",
    "list2_2 = add_grape(G_2,data,list_2)\n",
    "list2_3 = add_grape(G_3,data,list_3)"
   ]
  },
  {
   "cell_type": "code",
   "execution_count": null,
   "metadata": {},
   "outputs": [],
   "source": [
    "'''# 删除列表中的重复元素\n",
    "list2_1 = list(set(list2_1))\n",
    "list2_2 = list(set(list2_2))\n",
    "list2_3 = list(set(list2_3))\n",
    "\n",
    "# 第三次深度遍历\n",
    "_ = add_grape(G_1,data,list2_1)\n",
    "_ = add_grape(G_2,data,list2_2)\n",
    "_ = add_grape(G_3,data,list2_3)'''"
   ]
  },
  {
   "cell_type": "code",
   "execution_count": 99,
   "metadata": {},
   "outputs": [
    {
     "name": "stdout",
     "output_type": "stream",
     "text": [
      "33725\n"
     ]
    },
    {
     "data": {
      "text/plain": [
       "33725"
      ]
     },
     "execution_count": 99,
     "metadata": {},
     "output_type": "execute_result"
    }
   ],
   "source": [
    "print(G_1.number_of_nodes())\n",
    "len(set(list(G_1.nodes)))"
   ]
  },
  {
   "cell_type": "code",
   "execution_count": 100,
   "metadata": {},
   "outputs": [],
   "source": [
    "nx.write_gml(G_1,'g1.gml')\n",
    "nx.write_gml(G_2,'g2.gml')\n",
    "nx.write_gml(G_3,'g3.gml')"
   ]
  },
  {
   "cell_type": "code",
   "execution_count": null,
   "metadata": {},
   "outputs": [],
   "source": []
  }
 ],
 "metadata": {
  "kernelspec": {
   "display_name": "Python 3 (ipykernel)",
   "language": "python",
   "name": "python3"
  },
  "language_info": {
   "codemirror_mode": {
    "name": "ipython",
    "version": 3
   },
   "file_extension": ".py",
   "mimetype": "text/x-python",
   "name": "python",
   "nbconvert_exporter": "python",
   "pygments_lexer": "ipython3",
   "version": "3.9.13"
  }
 },
 "nbformat": 4,
 "nbformat_minor": 2
}
